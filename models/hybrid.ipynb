{
 "cells": [
  {
   "cell_type": "markdown",
   "id": "1ea68174",
   "metadata": {},
   "source": [
    "# Hybrid approach"
   ]
  },
  {
   "cell_type": "markdown",
   "id": "838e9198",
   "metadata": {},
   "source": [
    "The Hybrid Model combines multiple recommendation techniques to enhance the accuracy and robustness of predictions. In this implementation, a hybrid approach is used, leveraging Cosine Similarity to blend different recommendation strategies.\n",
    "\n",
    "Cosine similarity measures the cosine of the angle between two vectors, representing the similarity between user or item profiles. By combining the predictions from multiple models based on cosine similarity, the hybrid model aims to provide more personalized and accurate recommendations by considering both collaborative and content-based aspects.\n",
    "\n",
    "This approach allows us to take advantage of both the strengths of individual models while mitigating their weaknesses, ultimately offering a more balanced recommendation system."
   ]
  },
  {
   "cell_type": "markdown",
   "id": "c3f028f2",
   "metadata": {},
   "source": [
    "## Setup"
   ]
  },
  {
   "cell_type": "code",
   "execution_count": 1,
   "id": "3ca1b79a",
   "metadata": {},
   "outputs": [],
   "source": [
    "%%bash\n",
    "DATA_FOLDER=\"../data\"\n",
    "if [ ! -d \"$DATA_FOLDER\" ]; then\n",
    "    wget --no-check-certificate \"https://drive.usercontent.google.com/download?id=1qe5hOSBxzIuxBb1G_Ih5X-O65QElollE&export=download&confirm=t&uuid=b2002093-cc6e-4bd5-be47-9603f0b33470\" -O KuaiRec.zip\n",
    "    unzip KuaiRec.zip -d \"$DATA_FOLDER\"\n",
    "    rm KuaiRec.zip\n",
    "fi"
   ]
  },
  {
   "cell_type": "code",
   "execution_count": 2,
   "id": "2199bb8d",
   "metadata": {},
   "outputs": [],
   "source": [
    "import pandas as pd\n",
    "import json\n",
    "from sklearn.feature_extraction.text import TfidfVectorizer\n",
    "from sklearn.metrics.pairwise import linear_kernel, cosine_similarity"
   ]
  },
  {
   "cell_type": "code",
   "execution_count": 3,
   "id": "eb145a6f",
   "metadata": {},
   "outputs": [],
   "source": [
    "# Load the datasets.\n",
    "data = \"../data/KuaiRec 2.0/data\"\n",
    "interactions = pd.read_csv(f\"{data}/big_matrix.csv\")\n",
    "categories = pd.read_csv(f\"{data}/item_categories.csv\")"
   ]
  },
  {
   "cell_type": "code",
   "execution_count": 4,
   "id": "1a4a27fd",
   "metadata": {},
   "outputs": [],
   "source": [
    "# Drop useless data.\n",
    "interactions = interactions.dropna()\n",
    "interactions = interactions.drop_duplicates()\n",
    "interactions = interactions[interactions[\"timestamp\"] >= 0]\n",
    "\n",
    "# Drop useless columns.\n",
    "interactions.drop(columns=[\"play_duration\", \"video_duration\", \"time\", \"date\", \"timestamp\"], inplace=True)\n",
    "\n",
    "# Drop useless data.\n",
    "categories = categories.dropna()\n",
    "categories = categories.drop_duplicates()\n",
    "\n",
    "# Convert the feat column from a string representation of an array into an array.\n",
    "categories[\"feat\"] = categories[\"feat\"].apply(lambda x: json.loads(x))"
   ]
  },
  {
   "cell_type": "markdown",
   "id": "f5b0986e",
   "metadata": {},
   "source": [
    "## Collaborative filtering using cosine similarity"
   ]
  },
  {
   "cell_type": "code",
   "execution_count": 5,
   "id": "c5bbf9e7",
   "metadata": {},
   "outputs": [],
   "source": [
    "user_item_matrix = interactions.pivot_table(\n",
    "    index=\"user_id\", columns=\"video_id\", values=\"watch_ratio\",\n",
    "    aggfunc=\"max\", fill_value=0\n",
    ")"
   ]
  },
  {
   "cell_type": "code",
   "execution_count": 6,
   "id": "a99592d7",
   "metadata": {},
   "outputs": [],
   "source": [
    "user_similarity = cosine_similarity(user_item_matrix)"
   ]
  },
  {
   "cell_type": "code",
   "execution_count": 7,
   "id": "bd038a05",
   "metadata": {},
   "outputs": [],
   "source": [
    "def recommend_videos_by_users(user_id, nb_top_similar=10, res_length=10):\n",
    "    \"\"\"\n",
    "    Get top content recommendations for a given user using collaborative filtering.\n",
    "\n",
    "    The function finds the most similar users to the target `user_id` and aggregates their preferences\n",
    "    to return a ranked list of recommended items.\n",
    "\n",
    "    Args:\n",
    "        user_id (int): The ID of the user for whom to generate recommendations.\n",
    "        nb_top_similar (int, optional): Number of most similar users to consider. Default is 10.\n",
    "        res_length (int, optional): Number of top recommendations to return. Default is 10.\n",
    "\n",
    "    Returns:\n",
    "        pandas.Series: A sorted list of recommended items for the specified user.\n",
    "    \"\"\"\n",
    "    similar_users = user_similarity[user_id].argsort()[:-nb_top_similar:-1]\n",
    "    recommended_items = user_item_matrix.loc[similar_users].mean(axis=0).sort_values(ascending=False)\n",
    "    \n",
    "    items_user_has_watched = user_item_matrix.loc[user_id][user_item_matrix.loc[user_id] != 0].index\n",
    "    recommended_items = recommended_items[~recommended_items.index.isin(items_user_has_watched)]\n",
    "\n",
    "    return recommended_items.head(res_length)\n"
   ]
  },
  {
   "cell_type": "markdown",
   "id": "fcb425da",
   "metadata": {},
   "source": [
    "## Content Based filtering using cosine similarity"
   ]
  },
  {
   "cell_type": "code",
   "execution_count": 8,
   "id": "b1548ba9",
   "metadata": {},
   "outputs": [],
   "source": [
    "# Create TF-IDF matrix from the video feats.\n",
    "data_as_strings = [\" \".join(map(str, doc)) for doc in categories[\"feat\"]]\n",
    "vectorizer = TfidfVectorizer()\n",
    "tfidf_matrix = vectorizer.fit_transform(data_as_strings)\n"
   ]
  },
  {
   "cell_type": "code",
   "execution_count": 9,
   "id": "1b66c20b",
   "metadata": {},
   "outputs": [],
   "source": [
    "content_based_cosine_sim = linear_kernel(tfidf_matrix, tfidf_matrix)"
   ]
  },
  {
   "cell_type": "code",
   "execution_count": 10,
   "id": "4a9efed3",
   "metadata": {},
   "outputs": [],
   "source": [
    "def recommend_similar_videos(video_id, res_length=20):\n",
    "    \"\"\"\n",
    "    Retrieve top-N videos similar to a given video using content-based filtering.\n",
    "\n",
    "    This function returns a list of videos most similar to the specified `video_id`,\n",
    "    based on content features and cosine similarity from TF-IDF.\n",
    "\n",
    "    Args:\n",
    "        video_id (int): The ID of the reference video for which similar videos are to be found.\n",
    "        res_length (int, optional): The number of most similar videos to return. Default is 20.\n",
    "\n",
    "    Returns:\n",
    "        pandas.Series: A Series containing the IDs of the top-N similar videos,\n",
    "                       sorted by descending similarity score.\n",
    "    \"\"\"\n",
    "    idx = categories[categories['video_id'] == video_id].index[0]\n",
    "    sim_scores = list(enumerate(content_based_cosine_sim[idx]))\n",
    "    sim_scores = sorted(sim_scores, key=lambda x: x[1], reverse=True)[1:res_length+1]\n",
    "    \n",
    "    # Extract indices and scores separately\n",
    "    movie_indices = [i[0] for i in sim_scores]\n",
    "    scores = [i[1] for i in sim_scores]\n",
    "\n",
    "    video_ids = categories[\"video_id\"].iloc[movie_indices].reset_index(drop=True)\n",
    "\n",
    "    return pd.Series(scores, index=video_ids, name=\"similarity\")"
   ]
  },
  {
   "cell_type": "markdown",
   "id": "eb6eaacd",
   "metadata": {},
   "source": [
    "## Hybrid filtering"
   ]
  },
  {
   "cell_type": "code",
   "execution_count": 11,
   "id": "2d647f9c",
   "metadata": {},
   "outputs": [],
   "source": [
    "def get_most_watched_videos_by_user_id(df, user_id, head_count=5):\n",
    "    \"\"\"\n",
    "    Get the most watched videos by a specific user, sorted by watch ratio.\n",
    "\n",
    "    Args:\n",
    "        df (pandas.DataFrame): The input DataFrame containing video data, where each row represents a video watched by a user.\n",
    "        user_id (int or str): The ID of the user for whom the most watched videos are being retrieved.\n",
    "        head_count (int, optional): The number of top videos to return based on the highest watch ratio. Default is 5.\n",
    "\n",
    "    Returns:\n",
    "        pandas.DataFrame: A DataFrame containing the top 'head_count' most watched videos by the specified user,\n",
    "                           sorted by the 'watch_ratio' column in descending order.\n",
    "    \"\"\"\n",
    "    return df[df[\"user_id\"] == user_id].sort_values(by=\"watch_ratio\", ascending=False).head(head_count)"
   ]
  },
  {
   "cell_type": "code",
   "execution_count": 12,
   "id": "230e7e85",
   "metadata": {},
   "outputs": [],
   "source": [
    "def recommmend_videos_for_user(user_id, content_weight=0.3, res_length=10):\n",
    "    \"\"\"\n",
    "    Generate hybrid video recommendations for a given user by combining \n",
    "    content-based and collaborative filtering approaches.\n",
    "\n",
    "    This function returns a ranked list of recommended videos by merging \n",
    "    the outputs of:\n",
    "      - Collaborative filtering: finds videos liked by similar users.\n",
    "      - Content-based filtering: finds videos similar to those the user has interacted with.\n",
    "\n",
    "    Args:\n",
    "        user_id (int): The ID of the user for whom to generate recommendations.\n",
    "        content_weight (float, optional): Weight given to content-based recommendations. \n",
    "                                           Collaborative filtering is weighted as (1 - content_weight). Default is 0.3.\n",
    "        res_length (int, optional): The number of top recommendations to return. Default is 10.\n",
    "\n",
    "    Returns:\n",
    "        pandas.Series: A Series where the index contains recommended video IDs and the values\n",
    "                       represent the aggregated relevance scores (e.g., weighted similarity),\n",
    "                       sorted in descending order.\n",
    "    \"\"\"\n",
    "    collab_scores = recommend_videos_by_users(user_id, nb_top_similar=10, res_length=50)\n",
    "    \n",
    "    # Get the history of the user's favorite videos.\n",
    "    user_history = get_most_watched_videos_by_user_id(interactions, user_id, 20)[\"video_id\"].tolist()\n",
    "    \n",
    "    content_scores = pd.Series(dtype=float)\n",
    "    for video_id in user_history:\n",
    "        similar_videos = recommend_similar_videos(video_id, res_length=10)\n",
    "        content_scores = content_scores.add(similar_videos, fill_value=0)\n",
    "        \n",
    "    # Normalize.    \n",
    "    if not content_scores.empty:\n",
    "        content_scores /= content_scores.max()\n",
    "    if not collab_scores.empty:\n",
    "        collab_scores /= collab_scores.max()\n",
    "    \n",
    "    # Calculate the video score by combining the two systems using a weight. \n",
    "    combined_scores = content_scores.mul(content_weight).add(\n",
    "        collab_scores.mul(1 - content_weight), fill_value=0\n",
    "    )\n",
    "\n",
    "    # Remove already watched videos\n",
    "    combined_scores = combined_scores.drop(labels=user_history, errors='ignore')\n",
    "\n",
    "    return combined_scores.sort_values(ascending=False).head(res_length)\n"
   ]
  },
  {
   "cell_type": "markdown",
   "id": "fb550d00",
   "metadata": {},
   "source": [
    "## Model testing"
   ]
  },
  {
   "cell_type": "markdown",
   "id": "723c6fd7",
   "metadata": {},
   "source": [
    "Let's test our model by trying to recommend videos to the user 0."
   ]
  },
  {
   "cell_type": "code",
   "execution_count": 13,
   "id": "716aa39a",
   "metadata": {},
   "outputs": [
    {
     "data": {
      "text/plain": [
       "video_id\n",
       "6013    0.700000\n",
       "7143    0.514801\n",
       "2589    0.479550\n",
       "861     0.397293\n",
       "6769    0.390690\n",
       "dtype: float64"
      ]
     },
     "execution_count": 13,
     "metadata": {},
     "output_type": "execute_result"
    }
   ],
   "source": [
    "# The videos recommended by our model.\n",
    "recommended_videos  = recommmend_videos_for_user(0, content_weight=0.3, res_length=5)\n",
    "recommended_videos"
   ]
  },
  {
   "cell_type": "code",
   "execution_count": 14,
   "id": "2fef8c26",
   "metadata": {},
   "outputs": [
    {
     "data": {
      "text/html": [
       "<div>\n",
       "<style scoped>\n",
       "    .dataframe tbody tr th:only-of-type {\n",
       "        vertical-align: middle;\n",
       "    }\n",
       "\n",
       "    .dataframe tbody tr th {\n",
       "        vertical-align: top;\n",
       "    }\n",
       "\n",
       "    .dataframe thead th {\n",
       "        text-align: right;\n",
       "    }\n",
       "</style>\n",
       "<table border=\"1\" class=\"dataframe\">\n",
       "  <thead>\n",
       "    <tr style=\"text-align: right;\">\n",
       "      <th></th>\n",
       "      <th>user_id</th>\n",
       "      <th>video_id</th>\n",
       "      <th>watch_ratio</th>\n",
       "    </tr>\n",
       "  </thead>\n",
       "  <tbody>\n",
       "    <tr>\n",
       "      <th>434</th>\n",
       "      <td>0</td>\n",
       "      <td>7046</td>\n",
       "      <td>130.818866</td>\n",
       "    </tr>\n",
       "    <tr>\n",
       "      <th>2014</th>\n",
       "      <td>0</td>\n",
       "      <td>3289</td>\n",
       "      <td>89.249457</td>\n",
       "    </tr>\n",
       "    <tr>\n",
       "      <th>1419</th>\n",
       "      <td>0</td>\n",
       "      <td>6088</td>\n",
       "      <td>33.397893</td>\n",
       "    </tr>\n",
       "    <tr>\n",
       "      <th>17</th>\n",
       "      <td>0</td>\n",
       "      <td>171</td>\n",
       "      <td>33.276021</td>\n",
       "    </tr>\n",
       "    <tr>\n",
       "      <th>2179</th>\n",
       "      <td>0</td>\n",
       "      <td>6309</td>\n",
       "      <td>9.239163</td>\n",
       "    </tr>\n",
       "  </tbody>\n",
       "</table>\n",
       "</div>"
      ],
      "text/plain": [
       "      user_id  video_id  watch_ratio\n",
       "434         0      7046   130.818866\n",
       "2014        0      3289    89.249457\n",
       "1419        0      6088    33.397893\n",
       "17          0       171    33.276021\n",
       "2179        0      6309     9.239163"
      ]
     },
     "execution_count": 14,
     "metadata": {},
     "output_type": "execute_result"
    }
   ],
   "source": [
    "# The top 5 most watched videos by the user 0.\n",
    "most_watched_videos_by_user_0 = get_most_watched_videos_by_user_id(interactions, 0)\n",
    "most_watched_videos_by_user_0"
   ]
  },
  {
   "cell_type": "code",
   "execution_count": 15,
   "id": "cc882e56",
   "metadata": {},
   "outputs": [],
   "source": [
    "def get_features_of_videos(videos):\n",
    "    \"\"\"\n",
    "    Retrieve the unique features associated with a list of video IDs.\n",
    "\n",
    "    This function looks up each video ID in the global `categories` DataFrame \n",
    "    and extracts its associated features from the 'feat' column. It returns a \n",
    "    set of all distinct features found across the given videos.\n",
    "\n",
    "    Args:\n",
    "        videos (list of int): A list of video IDs for which to collect features.\n",
    "\n",
    "    Returns:\n",
    "        set: A set containing all unique features associated with the provided video IDs.\n",
    "    \"\"\"\n",
    "    video_categories = set()\n",
    "    for video_id in videos:\n",
    "        feats = categories[categories['video_id'] == video_id]['feat'].values[0]\n",
    "        video_categories.update(feats)\n",
    "    return video_categories"
   ]
  },
  {
   "cell_type": "code",
   "execution_count": 16,
   "id": "e2531b72",
   "metadata": {},
   "outputs": [
    {
     "data": {
      "text/plain": [
       "{6, 8, 10, 11, 17, 25, 26}"
      ]
     },
     "execution_count": 16,
     "metadata": {},
     "output_type": "execute_result"
    }
   ],
   "source": [
    "# Features of the most watched videos of user 0.\n",
    "get_features_of_videos(most_watched_videos_by_user_0[\"video_id\"])"
   ]
  },
  {
   "cell_type": "code",
   "execution_count": 17,
   "id": "12b71330",
   "metadata": {},
   "outputs": [
    {
     "data": {
      "text/plain": [
       "{6, 11, 26, 28}"
      ]
     },
     "execution_count": 17,
     "metadata": {},
     "output_type": "execute_result"
    }
   ],
   "source": [
    "# Features of the recommended videos.\n",
    "get_features_of_videos(recommended_videos.index)"
   ]
  },
  {
   "cell_type": "markdown",
   "id": "21795142",
   "metadata": {},
   "source": [
    "## Benchmarks"
   ]
  },
  {
   "cell_type": "code",
   "execution_count": 18,
   "id": "a23d5e29",
   "metadata": {},
   "outputs": [],
   "source": [
    "def precision_at_k(recommended, relevant, k):\n",
    "    relevant_items_in_top_k = len(recommended.intersection(relevant))\n",
    "    return relevant_items_in_top_k / k\n",
    "\n",
    "def recall_at_k(recommended, relevant):\n",
    "    relevant_items_in_top_k = len(recommended.intersection(relevant))\n",
    "    return relevant_items_in_top_k / len(relevant) if len(relevant) > 0 else 0.0\n",
    "\n",
    "def f1_score_at_k(precision, recall):\n",
    "    if precision + recall == 0:\n",
    "        return 0.0\n",
    "    return 2 * (precision * recall) / (precision + recall)\n",
    "\n",
    "def hit_ratio_at_k(recommended, relevant):\n",
    "    return 1 if len(recommended.intersection(relevant)) > 0 else 0\n",
    "\n",
    "def coverage_at_k(recommended, total_features):\n",
    "    return len(recommended) / total_features"
   ]
  },
  {
   "cell_type": "code",
   "execution_count": 19,
   "id": "9a1b7d00",
   "metadata": {},
   "outputs": [
    {
     "name": "stdout",
     "output_type": "stream",
     "text": [
      "📊 Model Evaluation Metrics:\n",
      "-----------------------------------------\n",
      "➡️  Precision@5               : 0.6\n",
      "➡️  Recall@5                  : 0.5\n",
      "➡️  F1-Score@5                : 0.5455\n",
      "➡️  Hit Ratio@5               : 1\n",
      "➡️  Coverage@5                : 0.129\n",
      "-----------------------------------------\n",
      "➡️  Precision@10               : 0.5\n",
      "➡️  Recall@10                  : 0.5\n",
      "➡️  F1-Score@10                : 0.5\n",
      "➡️  Hit Ratio@10               : 1\n",
      "➡️  Coverage@10                : 0.2581\n",
      "-----------------------------------------\n",
      "➡️  Precision@100               : 0.17\n",
      "➡️  Recall@100                  : 0.9444\n",
      "➡️  F1-Score@100                : 0.2881\n",
      "➡️  Hit Ratio@100               : 1\n",
      "➡️  Coverage@100                : 0.6129\n",
      "-----------------------------------------\n",
      "➡️  Precision@1000               : 0.022\n",
      "➡️  Recall@1000                  : 0.8148\n",
      "➡️  F1-Score@1000                : 0.0428\n",
      "➡️  Hit Ratio@1000               : 1\n",
      "➡️  Coverage@1000                : 0.7419\n",
      "-----------------------------------------\n"
     ]
    }
   ],
   "source": [
    "# Load the tests.\n",
    "test_df = pd.read_csv(f\"{data}/small_matrix.csv\")\n",
    "\n",
    "# Count the number of unique features.\n",
    "total_features = pd.Series([feat for feats in categories[\"feat\"] for feat in feats]).nunique()\n",
    "\n",
    "def metrics(K):\n",
    "    recommended_features = get_features_of_videos(recommmend_videos_for_user(14, content_weight=0.3, res_length=K).index)\n",
    "\n",
    "    most_watched_videos_by_user_14 = get_most_watched_videos_by_user_id(test_df, 14, K)\n",
    "    favorite_videos_features_of_user_14 = get_features_of_videos(most_watched_videos_by_user_14[\"video_id\"])\n",
    "\n",
    "    precision = precision_at_k(recommended_features, favorite_videos_features_of_user_14, K)\n",
    "    recall = recall_at_k(recommended_features, favorite_videos_features_of_user_14)\n",
    "    f1_score = f1_score_at_k(precision, recall)\n",
    "    hit_ratio = hit_ratio_at_k(recommended_features, favorite_videos_features_of_user_14)\n",
    "    coverage = coverage_at_k(recommended_features, total_features)\n",
    "\n",
    "    print(f\"➡️  Precision@{K}               : {round(precision, 4)}\")\n",
    "    print(f\"➡️  Recall@{K}                  : {round(recall, 4)}\")\n",
    "    print(f\"➡️  F1-Score@{K}                : {round(f1_score, 4)}\")\n",
    "    print(f\"➡️  Hit Ratio@{K}               : {round(hit_ratio, 4)}\")\n",
    "    print(f\"➡️  Coverage@{K}                : {round(coverage, 4)}\")\n",
    "\n",
    "print(\"📊 Model Evaluation Metrics:\")\n",
    "print(\"-----------------------------------------\")\n",
    "for K in [5, 10, 100, 1000]:\n",
    "    metrics(K)\n",
    "    print(\"-----------------------------------------\")"
   ]
  },
  {
   "cell_type": "markdown",
   "id": "04d71bfa",
   "metadata": {},
   "source": [
    "## Conclusion\n",
    "\n",
    "In this notebook, we implemented and evaluated a **hybrid recommender system** based on **cosine similarity**. The system recommends items by combining multiple features and measuring their similarity, aiming to suggest the most relevant items to users.\n",
    "\n",
    "After evaluating the model using different metrics at various **K values** (5, 10, 100, and 1000), we observed the following:\n",
    "\n",
    "### Key Metrics and Observations:\n",
    "\n",
    "- **Precision**: As the value of `K` increases, **precision** decreases—from **0.6 at K=5** to **0.022 at K=1000**. This trend is expected in recommender systems: increasing the number of recommendations often includes less relevant items, reducing overall precision.\n",
    "\n",
    "- **Recall**: In contrast, **recall** improves with higher `K`, reaching **0.8148 at K=1000**. This shows the system is capable of retrieving a significant portion of relevant items when more recommendations are presented.\n",
    "\n",
    "- **F1-Score**: The **F1-Score**, which balances precision and recall, peaks at **K=5** with a score of **0.5455** and gradually declines to **0.0428 at K=1000**, highlighting the trade-off between precision and recall as recommendation size increases.\n",
    "\n",
    "- **Hit Ratio**: The **hit ratio** is consistently **1.0** across all `K` values, indicating that the system successfully recommends *at least one* relevant item to every user, regardless of the list length.\n",
    "\n",
    "- **Coverage**: **Coverage** improves with larger `K`, increasing from **0.129 at K=5** to **0.7419 at K=1000**. This suggests that as the number of recommendations increases, the system is able to utilize a broader portion of the item catalog, providing users with more diverse suggestions.\n",
    "\n",
    "### Overall Insights:\n",
    "\n",
    "- The hybrid recommender system shows strong performance at **lower K values**, particularly at **K=5**, where it achieves high **precision (0.6)** and the highest **F1-Score (0.5455)**.\n",
    "\n",
    "- It maintains excellent **hit ratio** across all `K` values, consistently offering relevant content.\n",
    "\n",
    "- **Coverage** increases steadily with `K`, indicating the system's ability to explore and recommend a wider range of items as more slots become available.\n",
    "\n",
    "- The observed performance metrics align with typical trade-offs in recommender systems: higher recall and coverage come at the cost of precision.\n",
    "\n",
    "In conclusion, this cosine similarity-based hybrid approach offers an effective recommendation strategy with strong early precision and wide coverage at scale. The model can be tuned depending on the application—favoring **precision** for targeted recommendations or **recall/coverage** for exploratory or diverse content discovery.\n",
    "\n",
    "Further enhancements could include integrating additional user behavior signals or experimenting with more advanced hybridization techniques to further optimize recommendation quality.\n"
   ]
  }
 ],
 "metadata": {
  "kernelspec": {
   "display_name": ".venv",
   "language": "python",
   "name": "python3"
  },
  "language_info": {
   "codemirror_mode": {
    "name": "ipython",
    "version": 3
   },
   "file_extension": ".py",
   "mimetype": "text/x-python",
   "name": "python",
   "nbconvert_exporter": "python",
   "pygments_lexer": "ipython3",
   "version": "3.11.11"
  }
 },
 "nbformat": 4,
 "nbformat_minor": 5
}
